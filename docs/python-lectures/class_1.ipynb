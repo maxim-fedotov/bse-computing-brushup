{
 "cells": [
  {
   "cell_type": "markdown",
   "id": "ce2f59e2",
   "metadata": {},
   "source": [
    "**Introductory and intermediate computing for Data Science [Barcelona School of Economics]**\n",
    "\n",
    "`Instructor:` Maxim Fedotov  \n",
    "`Program:` M.Sc. in Data Science Methodology"
   ]
  },
  {
   "cell_type": "markdown",
   "id": "6e6cb77a",
   "metadata": {},
   "source": [
    "# Class 1: variables and jupyter notebook basics"
   ]
  },
  {
   "cell_type": "markdown",
   "id": "65f77e99",
   "metadata": {},
   "source": [
    "# Variables\n",
    "\n",
    "As data scientists, you will be working with -- not surprisingly -- data. A concept of variable in Python embodies what we may mean while saying the word \"data\". A variable has a *name* and points to an associated *memory cell* where some *value* is stored. So, to define a variable, we just need to assign a value (more generally -- an expression) to a chosen name by using a binary operator `=`. That is, the assignment construction looks as `name = expression`. The name of a variable is also called an *identifier*.\n",
    "\n",
    "Consider a problem of computing an area of a rectangle with sides 3 and 5. First, let's define the original data in the code cell bellow. Try to run the cell: 1. select it with your mouse or by using the arrows, 2. tap on a play button or use `control (ctrl) + enter` combination, note that the hotkey may be different for the interface you are trying to run this notebook in. Another useful combination is `shift + enter` which selects the next cell after running the previous one. \n",
    "\n",
    "You might be asked to choose a Python interpreter depending on the interface you are running this script in. If there is a \"default\" / \"global\" version, choose one of those, otherwise choose the latest one. If you chose to create a separate Python evironment for the course, then choose the corresponding interpreter. "
   ]
  },
  {
   "cell_type": "code",
   "execution_count": null,
   "id": "080411a1",
   "metadata": {},
   "outputs": [],
   "source": [
    "length = 3\n",
    "height = 5.0"
   ]
  },
  {
   "cell_type": "markdown",
   "id": "4734760a",
   "metadata": {},
   "source": [
    "When you run the first cell, your interpreter starts an interactive session which allows you to add the code on the go and run new cells to obtain new results or rewrite the previous one. So, keep track of this, as it also means that previously created variables may be overwritten! This quite often leads to unintentional mistakes in the beginnig of the learning path."
   ]
  },
  {
   "cell_type": "markdown",
   "id": "33438ed0",
   "metadata": {},
   "source": [
    "Now, let's try to compute the area of the rectangle in the cell below! We will discuss the arifmetic operations defined in Python further along the notebook. For the moment, do what feels intuitive."
   ]
  },
  {
   "cell_type": "code",
   "execution_count": 2,
   "id": "74ab2ee7",
   "metadata": {},
   "outputs": [],
   "source": [
    "area = # complete the code"
   ]
  },
  {
   "cell_type": "markdown",
   "id": "061d7e44",
   "metadata": {},
   "source": [
    "There are a couple of simple ways to display a value of a variable. For instance, you can use function `print(...)` to print the value."
   ]
  },
  {
   "cell_type": "code",
   "execution_count": null,
   "id": "76d2a23f",
   "metadata": {},
   "outputs": [],
   "source": [
    "# try to print a value of the 'area' variable\n"
   ]
  },
  {
   "cell_type": "markdown",
   "id": "0f220d80",
   "metadata": {},
   "source": [
    "In a Jupyter Python notebook you can simply type a name of a variable in a cell and run it. This displays the corresponding value below."
   ]
  },
  {
   "cell_type": "code",
   "execution_count": null,
   "id": "8f53284e",
   "metadata": {},
   "outputs": [],
   "source": [
    "# try to display a value of the 'area' variable in the Jupyter manner\n"
   ]
  },
  {
   "cell_type": "markdown",
   "id": "a36232f3",
   "metadata": {},
   "source": [
    "We can learn a numerical address in the memory to which a variable name points to via function `id(...)`. You can also get a hexadecimal representation of this addres by applying function `hex(...)`."
   ]
  },
  {
   "cell_type": "code",
   "execution_count": 2,
   "id": "7b0bbd4b",
   "metadata": {
    "scrolled": true
   },
   "outputs": [
    {
     "name": "stdout",
     "output_type": "stream",
     "text": [
      "A numeric ID of a memory cell to which the `length` variable points to: 4344054064\n",
      "A HEX representation of this address is: 0x102ed0130\n"
     ]
    }
   ],
   "source": [
    "print(\"A numeric ID of a memory cell to which the `length` variable points to:\", id(length))\n",
    "print(\"A HEX representation of this address is:\", hex(id(length)))"
   ]
  },
  {
   "cell_type": "markdown",
   "id": "e79c899d",
   "metadata": {},
   "source": [
    "Note that if you create another variable with the same value, it will have the same id:"
   ]
  },
  {
   "cell_type": "code",
   "execution_count": null,
   "id": "0aa32f9a",
   "metadata": {},
   "outputs": [
    {
     "name": "stdout",
     "output_type": "stream",
     "text": [
      "For the `length` variable, the id is: 4344054064\n",
      "For the `another_length`: 4344054064\n"
     ]
    }
   ],
   "source": [
    "another_length = 3\n",
    "print(\n",
    "    f\"For the `length` variable, the id is: {id(length)}\", \n",
    "    f\"For the `another_length`: {id(another_length)}\", \n",
    "    sep=\"\\n\"\n",
    ")"
   ]
  },
  {
   "cell_type": "markdown",
   "id": "1c959f3a",
   "metadata": {},
   "source": [
    "Recall, that it is possible to *overwrite* a previously created variable, i.e. replace a value that is assigned to its name. Let's illustrate this code by running the cell below.  "
   ]
  },
  {
   "cell_type": "code",
   "execution_count": 4,
   "id": "51ac8c4e",
   "metadata": {},
   "outputs": [
    {
     "name": "stdout",
     "output_type": "stream",
     "text": [
      "6.0\n"
     ]
    }
   ],
   "source": [
    "length = 6.0\n",
    "print(length)"
   ]
  },
  {
   "cell_type": "markdown",
   "id": "f77d2c23",
   "metadata": {},
   "source": [
    "### Naming a variable\n",
    "\n",
    "There is a conventional way to spell a name to a variable which is called: *snake_case*. Which means that if a name is a combination of several words then they are split by `_`. Preferably, letters in a name should be lower case, although it is not necessary. Note that names (or identifiers) in Python are case-sensitive. Also, a variable name cannot start with a number.  \n",
    "\n",
    "Generally, any name that you introduce in a program should reflect the nature behind the named entity. So, just try to incorporate a purpose of an entity in its name. For example, `car_speed = 50`. From this example, you can also see that it can be hard to understand a code without any additional comments. So you can comment your code using hash character `#`, like this:\n",
    "\n",
    "`car_speed = 50  # note that everywhere in the program speed is measured in km/h`. \n",
    "\n",
    "Although, if you name some constant in your program that has a pretty comon name, then non-specific name could also work. For example,\n",
    "\n",
    "`c = 299792458  # speed of light in m/s`."
   ]
  },
  {
   "cell_type": "markdown",
   "id": "7f9afa6f",
   "metadata": {},
   "source": [
    "## Data Types\n",
    "\n",
    "Data may come in different format. So there exists a broad concept called \"data type\". You may also think of it as a synonym to the term \"data structure\". Basically, a data type determines a kind of value which may be stored in its instance and which operations can be performed with it.\n",
    "\n",
    "First, let's consider some very basic *built-in* types you will deal with most of the time. \n",
    "\n",
    "* Boolean values: \n",
    "    * <span style=\"color:green\"> bool </span> (boolean) - is a binary variable, either `True` or `False`.\n",
    "* Numeric types: \n",
    "    * <span style=\"color:green\"> int </span> (integer)\n",
    "    * <span style=\"color:green\"> float </span> (floating-point number) - a decimal representation of a real number.\n",
    "* Text sequence type: <span style=\"color:green\"> str </span> (string) \n",
    "* The null object type: <span style=\"color:green\"> None </span>"
   ]
  },
  {
   "cell_type": "code",
   "execution_count": 5,
   "id": "fea47fa0",
   "metadata": {},
   "outputs": [],
   "source": [
    "my_boolean = True\n",
    "\n",
    "my_integer = 10\n",
    "my_float = 5.\n",
    "\n",
    "my_string = \"hey there\"  # You can also use single-quotes \"'\".\n",
    "\n",
    "my_no_value_object = None"
   ]
  },
  {
   "cell_type": "markdown",
   "id": "593686f1",
   "metadata": {},
   "source": [
    "You can find out a type of a variable using function `type(...)`."
   ]
  },
  {
   "cell_type": "code",
   "execution_count": 6,
   "id": "65a76f03",
   "metadata": {},
   "outputs": [
    {
     "data": {
      "text/plain": [
       "float"
      ]
     },
     "execution_count": 6,
     "metadata": {},
     "output_type": "execute_result"
    }
   ],
   "source": [
    "type(length)"
   ]
  },
  {
   "cell_type": "markdown",
   "id": "f84cfbb0",
   "metadata": {},
   "source": [
    "### Sequence types: list, tuple, range"
   ]
  },
  {
   "cell_type": "markdown",
   "id": "a7ac44af",
   "metadata": {},
   "source": [
    "There are also sequence types such as <span style=\"color:green\"> list </span>, <span style=\"color:green\"> tuple </span> and <span style=\"color:green\"> range </span>. The former two define collections of some objects, and the latter one defines a range between two integer numbers. We will disscuss them in depth in Class 3, but here we shall just see how some instances of these classes can be defined."
   ]
  },
  {
   "cell_type": "code",
   "execution_count": null,
   "id": "c6c1dd6f",
   "metadata": {},
   "outputs": [],
   "source": [
    "my_list = [0.1, 0.33, 0.5]\n",
    "my_tuple = (\n",
    "    \"Ramon Trias Fargas, 25-27\", \n",
    "    \"Roc Boronat, 138\", \n",
    "    \"Carrer de la Mercè, 12\",\n",
    "    \"Doctor Aiguader, 80\", \n",
    "    \"Passeig Pujades, 1\", \n",
    "    \"Balmes, 132-134\"\n",
    ")\n",
    "my_range = range(10)"
   ]
  },
  {
   "cell_type": "markdown",
   "id": "36f933e6",
   "metadata": {},
   "source": [
    "Feel free to use function `help(...)` onto `range` to see more information about this data type."
   ]
  },
  {
   "cell_type": "markdown",
   "id": "72e422ac",
   "metadata": {},
   "source": [
    "If you want to go in the depth of the language, it is a fine practice to look through documentation on the aspects you need. For example, have a look at [built-in types](https://docs.python.org/3/library/stdtypes.html#) page in the online Python documentation, but do not be too enthusiastic about it at the time. The documentation is quite hard to read if you are just starting your jurney, but it should become easier to understand as you accumulate experience. "
   ]
  },
  {
   "cell_type": "markdown",
   "id": "07c74eb2",
   "metadata": {},
   "source": [
    "#### Indexing: select elements within sequences"
   ]
  },
  {
   "cell_type": "markdown",
   "id": "aa66ccf3",
   "metadata": {},
   "source": [
    "You may use a construction `object[integer number]` to select an element from an instance of a sequence type. Note that indexing starts with 0, unlike in R, for example."
   ]
  },
  {
   "cell_type": "code",
   "execution_count": 8,
   "id": "df0a2e14",
   "metadata": {},
   "outputs": [
    {
     "data": {
      "text/plain": [
       "0.1"
      ]
     },
     "execution_count": 8,
     "metadata": {},
     "output_type": "execute_result"
    }
   ],
   "source": [
    "my_list[0]"
   ]
  },
  {
   "cell_type": "code",
   "execution_count": 9,
   "id": "f496a120",
   "metadata": {},
   "outputs": [
    {
     "data": {
      "text/plain": [
       "'Ramon Trias Fargas, 25-27'"
      ]
     },
     "execution_count": 9,
     "metadata": {},
     "output_type": "execute_result"
    }
   ],
   "source": [
    "my_tuple[0]"
   ]
  },
  {
   "cell_type": "code",
   "execution_count": 10,
   "id": "e3587261",
   "metadata": {},
   "outputs": [
    {
     "data": {
      "text/plain": [
       "0"
      ]
     },
     "execution_count": 10,
     "metadata": {},
     "output_type": "execute_result"
    }
   ],
   "source": [
    "my_range[0]"
   ]
  },
  {
   "cell_type": "markdown",
   "id": "112c2b07",
   "metadata": {},
   "source": [
    "Negative numbers are also allowed for indexing. In this case, the number indicates a position of an element starting from the end of the list."
   ]
  },
  {
   "cell_type": "code",
   "execution_count": 11,
   "id": "bb1076b3",
   "metadata": {},
   "outputs": [
    {
     "data": {
      "text/plain": [
       "0.5"
      ]
     },
     "execution_count": 11,
     "metadata": {},
     "output_type": "execute_result"
    }
   ],
   "source": [
    "my_list[-1]"
   ]
  },
  {
   "cell_type": "markdown",
   "id": "9f0d71dd",
   "metadata": {},
   "source": [
    "#### Slicing: select multiple elements"
   ]
  },
  {
   "cell_type": "markdown",
   "id": "f006edf8",
   "metadata": {},
   "source": [
    "One can also select several elements from a sequence using slicing. In contrast to simple indexing, one uses a slice within the square brackets instead of a single number. \n",
    "\n",
    "An expression defining a slice may have a form like `start:stop` or `start:stop:step`. This construction indicates that every `step`-th entry starting from the one with index `start` (including) is taken up until index `stop` (excluded).\n",
    "\n",
    "Note that each of the parameters may be ommitted. If `start` is empty, it is set to 0 (the beginning of a sequence) by default. If `stop` is not specified, then it is assumed to be the end of a sequence. If `step` is ommitted, it is taken to be 1. \n",
    "\n",
    "\n",
    "See some examples below, and try yourselves."
   ]
  },
  {
   "cell_type": "code",
   "execution_count": 12,
   "id": "f4a9d757",
   "metadata": {},
   "outputs": [
    {
     "data": {
      "text/plain": [
       "[0.1, 0.33, 0.5]"
      ]
     },
     "execution_count": 12,
     "metadata": {},
     "output_type": "execute_result"
    }
   ],
   "source": [
    "my_list[0:3]"
   ]
  },
  {
   "cell_type": "code",
   "execution_count": 13,
   "id": "1c993200",
   "metadata": {},
   "outputs": [
    {
     "data": {
      "text/plain": [
       "[0.1, 0.33, 0.5]"
      ]
     },
     "execution_count": 13,
     "metadata": {},
     "output_type": "execute_result"
    }
   ],
   "source": [
    "my_list[:3]"
   ]
  },
  {
   "cell_type": "code",
   "execution_count": 14,
   "id": "817e1f99",
   "metadata": {},
   "outputs": [
    {
     "data": {
      "text/plain": [
       "[0.33, 0.5]"
      ]
     },
     "execution_count": 14,
     "metadata": {},
     "output_type": "execute_result"
    }
   ],
   "source": [
    "my_list[1:]"
   ]
  },
  {
   "cell_type": "code",
   "execution_count": 15,
   "id": "4c5eab72",
   "metadata": {},
   "outputs": [
    {
     "data": {
      "text/plain": [
       "[0.1, 0.5]"
      ]
     },
     "execution_count": 15,
     "metadata": {},
     "output_type": "execute_result"
    }
   ],
   "source": [
    "my_list[::2]"
   ]
  },
  {
   "cell_type": "code",
   "execution_count": null,
   "id": "95668ed3",
   "metadata": {},
   "outputs": [
    {
     "data": {
      "text/plain": [
       "[0.33, 0.5]"
      ]
     },
     "execution_count": 17,
     "metadata": {},
     "output_type": "execute_result"
    }
   ],
   "source": [
    "my_list[-2:]"
   ]
  },
  {
   "cell_type": "markdown",
   "id": "21d24603",
   "metadata": {},
   "source": [
    "*Exercise: Given what you saw, try to figure out a neat way to revert the list by using only slicing.*"
   ]
  },
  {
   "cell_type": "code",
   "execution_count": null,
   "id": "70fda6b5",
   "metadata": {},
   "outputs": [],
   "source": [
    "# Try it below:\n"
   ]
  },
  {
   "cell_type": "markdown",
   "id": "619d0e7c",
   "metadata": {},
   "source": [
    "### WARNING: overwriting a variable"
   ]
  },
  {
   "cell_type": "markdown",
   "id": "c08ff66f",
   "metadata": {},
   "source": [
    "There is a vital caveat about Python. \n",
    "\n",
    "When we \"create\" a new variable referring to an already existing one, it could happen that after rewriting the original variable the new variable is also affected.\n",
    "\n",
    "This typically happens with variables which can possibly contain more than one value somehow, including variables that are lists.\n",
    "\n",
    "This behavior comes from the fact that variables in Python are basically references to memory addresses.\n",
    "\n",
    "Let's consider an example below."
   ]
  },
  {
   "cell_type": "code",
   "execution_count": 18,
   "id": "92695738",
   "metadata": {},
   "outputs": [],
   "source": [
    "a = [1]\n",
    "b = a"
   ]
  },
  {
   "cell_type": "markdown",
   "id": "66720a9a",
   "metadata": {},
   "source": [
    "At this point, `b` just refers to variable `a`.\n",
    "\n",
    "Let's see the values of that are assigned to these variables."
   ]
  },
  {
   "cell_type": "code",
   "execution_count": 19,
   "id": "39acee7d",
   "metadata": {},
   "outputs": [
    {
     "data": {
      "text/plain": [
       "[1]"
      ]
     },
     "execution_count": 19,
     "metadata": {},
     "output_type": "execute_result"
    }
   ],
   "source": [
    "a"
   ]
  },
  {
   "cell_type": "code",
   "execution_count": 20,
   "id": "ee3beeb8",
   "metadata": {},
   "outputs": [
    {
     "data": {
      "text/plain": [
       "[1]"
      ]
     },
     "execution_count": 20,
     "metadata": {},
     "output_type": "execute_result"
    }
   ],
   "source": [
    "b"
   ]
  },
  {
   "cell_type": "markdown",
   "id": "2f4565bf",
   "metadata": {},
   "source": [
    "Now, let's try to overwrite the value in the original list, i.e. `a`."
   ]
  },
  {
   "cell_type": "code",
   "execution_count": 21,
   "id": "f1de7020",
   "metadata": {},
   "outputs": [],
   "source": [
    "a[0] = 2"
   ]
  },
  {
   "cell_type": "markdown",
   "id": "12fa05ed",
   "metadata": {},
   "source": [
    "We can see that the value has indeed changed in list `a`."
   ]
  },
  {
   "cell_type": "code",
   "execution_count": 61,
   "id": "f1974764",
   "metadata": {},
   "outputs": [
    {
     "data": {
      "text/plain": [
       "[2]"
      ]
     },
     "execution_count": 61,
     "metadata": {},
     "output_type": "execute_result"
    }
   ],
   "source": [
    "a"
   ]
  },
  {
   "cell_type": "markdown",
   "id": "87120e2a",
   "metadata": {},
   "source": [
    "But so did the value in list `b`!!!"
   ]
  },
  {
   "cell_type": "code",
   "execution_count": 62,
   "id": "96d1e582",
   "metadata": {},
   "outputs": [
    {
     "data": {
      "text/plain": [
       "[2]"
      ]
     },
     "execution_count": 62,
     "metadata": {},
     "output_type": "execute_result"
    }
   ],
   "source": [
    "b"
   ]
  },
  {
   "cell_type": "markdown",
   "id": "6cd243b1",
   "metadata": {},
   "source": [
    "## Copying a variable: shallow and deep copies"
   ]
  },
  {
   "cell_type": "markdown",
   "id": "192b1c63",
   "metadata": {},
   "source": [
    "A possible solution for resolving these types of issues is copying.\n",
    "\n",
    "Let's import function `copy` from module `copy`, and try to create a copy of the original list. "
   ]
  },
  {
   "cell_type": "code",
   "execution_count": 22,
   "id": "b121b6f0",
   "metadata": {},
   "outputs": [],
   "source": [
    "from copy import copy\n",
    "\n",
    "a = [1]\n",
    "b = copy(a) # another way of doing a copy of the list would be: b = a[:]"
   ]
  },
  {
   "cell_type": "markdown",
   "id": "59a25177",
   "metadata": {},
   "source": [
    "Then, we can see that after changing a value in the original list, the new variable is not affected."
   ]
  },
  {
   "cell_type": "code",
   "execution_count": 26,
   "id": "88ac84b1",
   "metadata": {},
   "outputs": [
    {
     "name": "stdout",
     "output_type": "stream",
     "text": [
      "a = [2], b = [1]\n"
     ]
    }
   ],
   "source": [
    "a[0] = 2\n",
    "print(f\"a = {a}, b = {b}\")\n"
   ]
  },
  {
   "cell_type": "markdown",
   "id": "9f4f16d1",
   "metadata": {},
   "source": [
    "### WARNING: overwriting a variable with deep structure"
   ]
  },
  {
   "cell_type": "markdown",
   "id": "044b1d93",
   "metadata": {},
   "source": [
    "The problem of overwriting a new variable referring to an old one becomes worse when the old variable is a collection of objects. A classical example is a list of lists.\n",
    "\n",
    "Let's try to use our copying solution in this case."
   ]
  },
  {
   "cell_type": "code",
   "execution_count": 31,
   "id": "5c3b643d",
   "metadata": {},
   "outputs": [
    {
     "name": "stdout",
     "output_type": "stream",
     "text": [
      "a = [[3], [2]], b = [[3], [2]]\n"
     ]
    }
   ],
   "source": [
    "a = [[1], [2]]\n",
    "b = copy(a)\n",
    "a[0][0] = 3\n",
    "print(f\"a = {a}, b = {b}\")"
   ]
  },
  {
   "cell_type": "markdown",
   "id": "e46cc6f2",
   "metadata": {},
   "source": [
    "We can check the addresses of the inner lists of `a` and `b` which are located at index 0."
   ]
  },
  {
   "cell_type": "code",
   "execution_count": 32,
   "id": "fd995128",
   "metadata": {},
   "outputs": [
    {
     "data": {
      "text/plain": [
       "(4419153088, 4419153088)"
      ]
     },
     "execution_count": 32,
     "metadata": {},
     "output_type": "execute_result"
    }
   ],
   "source": [
    "id(a[0]), id(b[0])"
   ]
  },
  {
   "cell_type": "markdown",
   "id": "7f41939d",
   "metadata": {},
   "source": [
    "They are the same, which means that `copy` function was unable copy the inner lists."
   ]
  },
  {
   "cell_type": "markdown",
   "id": "7dae6e07",
   "metadata": {},
   "source": [
    "There exists `deepcopy` function in `copy` package which allows to make proper copies of collections which contain objects.\n",
    "\n",
    "Now, we shall try `deepcopy` function in the same example, and see the result."
   ]
  },
  {
   "cell_type": "code",
   "execution_count": 33,
   "id": "9c620859",
   "metadata": {},
   "outputs": [
    {
     "name": "stdout",
     "output_type": "stream",
     "text": [
      "a = [[3], [2]], b = [[1], [2]]\n"
     ]
    }
   ],
   "source": [
    "from copy import deepcopy\n",
    "\n",
    "a = [[1], [2]]\n",
    "b = deepcopy(a)\n",
    "a[0][0] = 3\n",
    "print(f\"a = {a}, b = {b}\")"
   ]
  },
  {
   "cell_type": "markdown",
   "id": "d3a94a8a",
   "metadata": {},
   "source": [
    "Now, when we check the addresses of the inner lists of variables `a` and `b`, we see that they are different."
   ]
  },
  {
   "cell_type": "code",
   "execution_count": 34,
   "id": "bf2e9989",
   "metadata": {},
   "outputs": [
    {
     "data": {
      "text/plain": [
       "(4419150144, 4419148800)"
      ]
     },
     "execution_count": 34,
     "metadata": {},
     "output_type": "execute_result"
    }
   ],
   "source": [
    "id(a[0]), id(b[0])"
   ]
  },
  {
   "attachments": {
    "image.png": {
     "image/png": "[encoded data removed]"
    }
   },
   "cell_type": "markdown",
   "id": "d18da8bd",
   "metadata": {},
   "source": [
    "## Introduction to expressions\n",
    "\n",
    "In this section we shall learn what we can do with variables. An *expression* is a composite element of the program which consists of other \"smaller\" various lexical elements (including identifiers, operations and so on) united together in a specific syntactic manner. Simply, we need expressions to \"express a value\". Do not think too much about the definition right now, it is only to draw an analogy with a language that we speak.\n",
    "\n",
    "### Operations\n",
    "\n",
    "An *operation* comebined with variable identifiers is an example of *expression* in Python. You might have seen most of the *operators* that exist in Python before. The complete list of operators in Python is:\n",
    "\n",
    "![image.png](attachment:image.png)\n",
    "Source: [Python documentation](https://docs.python.org/3/reference/lexical_analysis.html#operators-1).\n",
    "\n",
    "Today we are going to consider some of them.\n",
    "\n",
    "Despite the operators might seem familiar, they should be treated with care because: \n",
    "\n",
    "(1) Some opertors are not applicable to some types, e.g. the expression `1 + \"add me\"` is wrong. If you use an incorrect operation you will get `TypeError: unsupported operand type(s) ...`.\n",
    "\n",
    "(2) Effects of some operators differ depending on the types of the arguments, e.g. `2 * 2` gives `4`, try what `\"double\" * 2` returns."
   ]
  },
  {
   "cell_type": "code",
   "execution_count": 21,
   "id": "dd27ad81",
   "metadata": {},
   "outputs": [],
   "source": [
    "# try here\n"
   ]
  },
  {
   "cell_type": "markdown",
   "id": "96397b6f",
   "metadata": {},
   "source": [
    "### Arithmetc operations"
   ]
  },
  {
   "cell_type": "markdown",
   "id": "a1b22e21",
   "metadata": {},
   "source": [
    "Writing arithmetic expressions in Python is quite intuitive, especally those with addition, subtraction, multiplication and division of two numeric values. The order of the operations is as in mathematics. As usual, parentheses help to modify it if you want to."
   ]
  },
  {
   "cell_type": "code",
   "execution_count": 35,
   "id": "338146cf",
   "metadata": {},
   "outputs": [
    {
     "name": "stdout",
     "output_type": "stream",
     "text": [
      "8.0\n"
     ]
    }
   ],
   "source": [
    "print(2 * 3 + (5 - 1) / 2 )"
   ]
  },
  {
   "cell_type": "markdown",
   "id": "bad039d5",
   "metadata": {},
   "source": [
    "Let's dwell on some operators that might be not that familiar. \n",
    "\n",
    "The *power operator* in python is `**`. The *integer division* operation `left_operand // right_operand` returns an integer part of the devision of the left operand by the right operand. The *modulo* operation `left_operand % right_operand` returns a reminder of the devision of the left operand by the right operand."
   ]
  },
  {
   "cell_type": "code",
   "execution_count": 47,
   "id": "eb0fbf16",
   "metadata": {},
   "outputs": [],
   "source": [
    "# print a result of taking 4 to the power of 60:\n",
    "\n",
    "\n",
    "# find an integer part of devision of the previous quantity by 4 and print it:\n",
    "\n",
    "\n",
    "# see what is a reminder of the devision of the previous value by 2:\n",
    "\n",
    "\n",
    "# can you find an answer to the previous queston by using a composite arithmetic expression?\n"
   ]
  },
  {
   "cell_type": "markdown",
   "id": "2bc1fe61",
   "metadata": {},
   "source": [
    "Some of the operations are customizable, which means that they can be programmed to be used in the same syntactical manner with obects other than numerical values. You have seen an example before `\"double\" * 2`. So, now we do a short digression introducing what `+` and `*` do with sequence objects (strings is one example of such objects)."
   ]
  },
  {
   "cell_type": "markdown",
   "id": "ebde0db6",
   "metadata": {},
   "source": [
    "#### Addition and multiplication: some sequence type objects\n",
    "\n",
    "If the operands are sequence objects (or expressions that return sequence objects) then `+` represents *concatenation*."
   ]
  },
  {
   "cell_type": "code",
   "execution_count": 36,
   "id": "f31dfeef",
   "metadata": {},
   "outputs": [
    {
     "data": {
      "text/plain": [
       "'Left <-*-> Right'"
      ]
     },
     "execution_count": 36,
     "metadata": {},
     "output_type": "execute_result"
    }
   ],
   "source": [
    "\"Left <-\" + \"*\" + \"-> Right\""
   ]
  },
  {
   "cell_type": "markdown",
   "id": "667d186e",
   "metadata": {},
   "source": [
    "The result is a new string, where the latter string is placed right after the former one without adding any space character.\n",
    "\n",
    "Consider a construction of the form `sequence_object * integer`. The multipliaction operator `*` just concatenates the left operand (e.g. a string) with itself as many times as the right operand, `integer`, says minus one. So, effectively we get the original sequence object repeated `integer` times."
   ]
  },
  {
   "cell_type": "code",
   "execution_count": 37,
   "id": "5648cee5",
   "metadata": {},
   "outputs": [
    {
     "data": {
      "text/plain": [
       "'doubledouble'"
      ]
     },
     "execution_count": 37,
     "metadata": {},
     "output_type": "execute_result"
    }
   ],
   "source": [
    "\"double\" * 2"
   ]
  },
  {
   "cell_type": "markdown",
   "id": "c3277449",
   "metadata": {},
   "source": [
    "For lists and tuples, the addition and multiplication operators work in a somewhat similar manner. See the examples below."
   ]
  },
  {
   "cell_type": "code",
   "execution_count": 38,
   "id": "c73788f7",
   "metadata": {},
   "outputs": [
    {
     "data": {
      "text/plain": [
       "[1, 2, 1, 2]"
      ]
     },
     "execution_count": 38,
     "metadata": {},
     "output_type": "execute_result"
    }
   ],
   "source": [
    "[1, 2] * 2"
   ]
  },
  {
   "cell_type": "code",
   "execution_count": 40,
   "id": "a019db22",
   "metadata": {},
   "outputs": [
    {
     "data": {
      "text/plain": [
       "['Y', 'O', 'L', 'O']"
      ]
     },
     "execution_count": 40,
     "metadata": {},
     "output_type": "execute_result"
    }
   ],
   "source": [
    "[\"Y\", \"O\"] + [\"L\", \"O\"]"
   ]
  },
  {
   "cell_type": "code",
   "execution_count": 41,
   "id": "b77e873d",
   "metadata": {},
   "outputs": [
    {
     "data": {
      "text/plain": [
       "(1, 2, 1, 2)"
      ]
     },
     "execution_count": 41,
     "metadata": {},
     "output_type": "execute_result"
    }
   ],
   "source": [
    "(1, 2) * 2"
   ]
  },
  {
   "cell_type": "code",
   "execution_count": 42,
   "id": "0257fb3f",
   "metadata": {},
   "outputs": [
    {
     "data": {
      "text/plain": [
       "('Just', 'the', 'two', 'of', 'us')"
      ]
     },
     "execution_count": 42,
     "metadata": {},
     "output_type": "execute_result"
    }
   ],
   "source": [
    "(\"Just\", \"the\", \"two\") + (\"of\", \"us\")"
   ]
  },
  {
   "cell_type": "markdown",
   "id": "0079e7b0",
   "metadata": {},
   "source": [
    "### Comparisons"
   ]
  },
  {
   "cell_type": "markdown",
   "id": "14e2f2d1",
   "metadata": {},
   "source": [
    "Sometimes we need our program to perform differently depending on different conditions.\n",
    "\n",
    "To perform numerical comparison, we can use the following operators: `>` (greater), `<` (less), `>=` (greater or equal), `<=` (less or equal), `==` (equal), `!=` (not equal).\n",
    "\n",
    "Suppose that we are solving a tax problem. If a salary is below 1000 EUR, then no tax is applied to it. Otherwise, it is subject to 13% tax (applied only to the amount above 1000).\n",
    "\n",
    "Try to modify the following short piece of code to check whether the input salary is below 1000:"
   ]
  },
  {
   "cell_type": "code",
   "execution_count": 32,
   "id": "f509fbfb",
   "metadata": {},
   "outputs": [
    {
     "name": "stdout",
     "output_type": "stream",
     "text": [
      "1000\n",
      "The input income is below 1000: False\n"
     ]
    }
   ],
   "source": [
    "salary = int(input())\n",
    "\n",
    "# input() function here represents a user input from stdin, but it reads \n",
    "# it as a string that is why we convert it to an integer by applying \n",
    "# the function int()\n",
    "\n",
    "print(\"The input salary is below 1000:\", ) # fill in a logical expression after the comma"
   ]
  },
  {
   "cell_type": "markdown",
   "id": "a1ba3ede",
   "metadata": {},
   "source": [
    "To finalize the example, compute the tax that amount in the cell below."
   ]
  },
  {
   "cell_type": "code",
   "execution_count": null,
   "id": "52e83697",
   "metadata": {},
   "outputs": [],
   "source": [
    "tax = # complete the code here\n",
    "\n",
    "# The next line ensures that the result is printed below the code cell.\n",
    "tax"
   ]
  },
  {
   "cell_type": "markdown",
   "id": "2fee0f8f",
   "metadata": {},
   "source": [
    "There are also *identity comparisons*: `is` and `is not`. They will be quite helpful when you process a real data. For example, you can check whether a variable has value or not:"
   ]
  },
  {
   "cell_type": "code",
   "execution_count": 43,
   "id": "72e4244d",
   "metadata": {},
   "outputs": [
    {
     "name": "stdout",
     "output_type": "stream",
     "text": [
      "The variable has a value: True\n"
     ]
    }
   ],
   "source": [
    "variable = 5\n",
    "\n",
    "print(\"The variable has a value:\", variable is not None)"
   ]
  },
  {
   "cell_type": "markdown",
   "id": "b113d5b5",
   "metadata": {},
   "source": [
    "Last but not the least important are *membership test operations* that are also considered as type of comparisons in Python. They can be done by literals `in` and `not in`."
   ]
  },
  {
   "cell_type": "code",
   "execution_count": 44,
   "id": "407de03d",
   "metadata": {},
   "outputs": [
    {
     "data": {
      "text/plain": [
       "True"
      ]
     },
     "execution_count": 44,
     "metadata": {},
     "output_type": "execute_result"
    }
   ],
   "source": [
    "1 in [1, 2, 3]"
   ]
  },
  {
   "cell_type": "markdown",
   "id": "aed1d554",
   "metadata": {},
   "source": [
    "### Boolean operations\n",
    "\n",
    "Logical \"and\" test is done by `and` literal, logical \"or\" test -- by `or`. Logical negation is done by `not` literal. See the examples below: "
   ]
  },
  {
   "cell_type": "code",
   "execution_count": 45,
   "id": "814bdd79",
   "metadata": {},
   "outputs": [
    {
     "name": "stdout",
     "output_type": "stream",
     "text": [
      "False\n",
      "True\n",
      "False\n"
     ]
    }
   ],
   "source": [
    "print(True and False)\n",
    "\n",
    "print(True or False)\n",
    "\n",
    "print(not True)"
   ]
  },
  {
   "cell_type": "markdown",
   "id": "ad14617b",
   "metadata": {},
   "source": [
    "In the tax problem considered before, suppose that there is a new rule being implemented: if the tax paid this year from other sources of income than one's salary is above 300 EUR and salary before tax is taxable (i.e. exceeds 1000), then the tax deduction of 3% is applied to the taxable part of the salary."
   ]
  },
  {
   "cell_type": "code",
   "execution_count": null,
   "id": "bc482462",
   "metadata": {},
   "outputs": [],
   "source": [
    "salary = int(input())\n",
    "\n",
    "other_income = int(input())\n",
    "\n",
    "print(\n",
    "    \"Tax deduction should be applied:\",\n",
    "    # fill in a logical expression after the comma\n",
    ")  "
   ]
  },
  {
   "cell_type": "markdown",
   "id": "98bd30b0",
   "metadata": {},
   "source": [
    "Note that some objects other that booleans can give a boolean result. For example, the following values are interpreted as false: False, None, numeric zero of all types, and empty strings and containers (including strings, tuples, lists, dictionaries, sets and frozensets). This helps to write beautiful and concise conditional expressions that we will discuss later."
   ]
  },
  {
   "cell_type": "markdown",
   "id": "b3ba3fd6",
   "metadata": {},
   "source": [
    "## A note on type conversion in Python\n",
    "\n",
    "You have already seen that we used the function `int(...)` to convert a type of an input from `str` to `int`. There are also other functions that convert a variable to another type. Of course, it works only if the provided variable is convertible to the suggested type. The functions that are used for explicit type conversion are the same as type names."
   ]
  },
  {
   "cell_type": "code",
   "execution_count": 46,
   "id": "296e9142",
   "metadata": {},
   "outputs": [],
   "source": [
    "initial_integer = 5\n",
    "integer_to_float = float(initial_integer)\n",
    "float_to_string = str(integer_to_float)\n",
    "string_to_float = float(float_to_string)\n",
    "float_to_integer = int(string_to_float)"
   ]
  },
  {
   "cell_type": "markdown",
   "id": "a8466d2a",
   "metadata": {},
   "source": [
    "Will you be able to convert `float_to_string` directly to integer?"
   ]
  },
  {
   "cell_type": "code",
   "execution_count": null,
   "id": "e92e6bc9",
   "metadata": {},
   "outputs": [],
   "source": [
    "# try here\n"
   ]
  },
  {
   "cell_type": "markdown",
   "id": "eea40b46",
   "metadata": {},
   "source": [
    "There is also an *implicit type conversion* in Python. There are several numeric examples: \n",
    "* If at least one value in an expression is a complex number, then the result is converted to a complex number.\n",
    "* If there is no complex numbers but there is a float number, the result is converted to float.\n",
    "* If there is no complex or float values but there is an integer, the result is converted to int.\n",
    "* Boolean values `True` and `False` in numerical expressions are implicitly converted to 1 and 0 respectively.\n",
    "\n",
    "The machinery of all these exemples comes from the fact that there are lower and higher data types in Python. So, the compiler converts lower data types to higher data types if they occur together in one expression."
   ]
  },
  {
   "cell_type": "code",
   "execution_count": 47,
   "id": "11cb72cd",
   "metadata": {},
   "outputs": [
    {
     "name": "stdout",
     "output_type": "stream",
     "text": [
      "<class 'float'>\n",
      "<class 'float'>\n",
      "<class 'int'>\n",
      "5\n"
     ]
    }
   ],
   "source": [
    "print(type(4.1 + 5))\n",
    "print(type(5 // 2.5))\n",
    "print(type(5 // 2))\n",
    "print(True * 5 + False * -1)"
   ]
  }
 ],
 "metadata": {
  "kernelspec": {
   "display_name": "Python 3 (ipykernel)",
   "language": "python",
   "name": "python3"
  },
  "language_info": {
   "codemirror_mode": {
    "name": "ipython",
    "version": 3
   },
   "file_extension": ".py",
   "mimetype": "text/x-python",
   "name": "python",
   "nbconvert_exporter": "python",
   "pygments_lexer": "ipython3",
   "version": "3.10.10"
  }
 },
 "nbformat": 4,
 "nbformat_minor": 5
}
