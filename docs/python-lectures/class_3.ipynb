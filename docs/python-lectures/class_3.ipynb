{
 "cells": [
  {
   "cell_type": "markdown",
   "id": "b17fbcf7",
   "metadata": {},
   "source": [
    "**Introductory and intermediate computing for Data Science [Barcelona School of Economics]**\n",
    "\n",
    "`Instructor:` Maxim Fedotov  \n",
    "`Program:` M.Sc. in Data Science Methodology"
   ]
  },
  {
   "cell_type": "markdown",
   "id": "345838e6",
   "metadata": {},
   "source": [
    "# Class 3"
   ]
  },
  {
   "cell_type": "markdown",
   "id": "d1c4a788",
   "metadata": {},
   "source": [
    "## Sequence types: lists, tuples, ranges\n",
    "Let's dive into several very important built-in sequence types: `list`, `tuple` (and touch `range` a bit). The former two define collections of some objects, and the latter one defines a range between two integer numbers. Their *displays* work as follows:"
   ]
  },
  {
   "cell_type": "code",
   "execution_count": 1,
   "id": "16227d31",
   "metadata": {},
   "outputs": [],
   "source": [
    "supercomps = (\n",
    "    \"Frontier\",\n",
    "    \"Aurora\", \n",
    "    \"Leonardo\", \n",
    "    \"Perlmutter\"\n",
    ")\n",
    "nodes_servers = [10624, 3456, 1536]\n"
   ]
  },
  {
   "cell_type": "code",
   "execution_count": 2,
   "id": "bc3ee677",
   "metadata": {},
   "outputs": [
    {
     "data": {
      "text/plain": [
       "range(0, 4)"
      ]
     },
     "execution_count": 2,
     "metadata": {},
     "output_type": "execute_result"
    }
   ],
   "source": [
    "range(len(supercomps))"
   ]
  },
  {
   "cell_type": "markdown",
   "id": "66a3231f",
   "metadata": {},
   "source": [
    "The above cell shows expressions that create objects of types list, tuple, and range. \n",
    "\n",
    "How would you define a tuple with a single element? Try it out here:"
   ]
  },
  {
   "cell_type": "code",
   "execution_count": 3,
   "id": "ae8d5d51",
   "metadata": {},
   "outputs": [],
   "source": [
    "# create and print (or just call) a variable which is supposed to be a tuple of one element"
   ]
  },
  {
   "cell_type": "markdown",
   "id": "f0d9aeb4",
   "metadata": {},
   "source": [
    "As you have seen already, arithmetic operators can be used with lists and tuples."
   ]
  },
  {
   "cell_type": "code",
   "execution_count": 4,
   "id": "271a6caa",
   "metadata": {},
   "outputs": [
    {
     "name": "stdout",
     "output_type": "stream",
     "text": [
      "Supercomputer Frontier has 9856 nodes.\n"
     ]
    }
   ],
   "source": [
    "nodes_servers = [9856] + nodes_servers\n",
    "print(f\"Supercomputer {supercomps[0]} has {nodes_servers[0]} nodes.\")"
   ]
  },
  {
   "cell_type": "markdown",
   "id": "9b326542",
   "metadata": {},
   "source": [
    "As you can see, we can access a value by specifying its index in the square brackets `volumes[0]` (note that it is necessary that there is no space between a name of a variable and a left square bracket). \n",
    "\n",
    "NOTE: A *negative* integer would also work as an index – its absolute value specifies a position of an element with respect to the end of the list. \n",
    "\n",
    "We can access specfic elements from these data structures doing *slicing*. The interface for slicing is the same square brackets as for selecting one elements, but with specific contents inside it: `[start:end:step]`. Note that it is not necessary to specify all of them."
   ]
  },
  {
   "cell_type": "code",
   "execution_count": 5,
   "id": "ea3abbc0",
   "metadata": {
    "scrolled": true
   },
   "outputs": [
    {
     "name": "stdout",
     "output_type": "stream",
     "text": [
      "These are the names of the super computers in reverse order: Perlmutter, Leonardo, Aurora, Frontier\n",
      "You can also take a slice of the first two elements of a range(0, 10): range(0, 2)\n"
     ]
    }
   ],
   "source": [
    "supercomps = supercomps[::-1]\n",
    "print(\n",
    "    \"These are the names of the super computers in reverse order:\", \n",
    "    \", \".join(supercomps)\n",
    ")\n",
    "\n",
    "print(\"You can also take a slice of the first two elements of a range(0, 10):\", range(10)[:2]) \n",
    "# note that you get a range when slicing a range"
   ]
  },
  {
   "cell_type": "markdown",
   "id": "7d98bd69",
   "metadata": {},
   "source": [
    "We can change values of lists by using an assignment expression of the following form:  \n",
    "`list_identifier[index | slice] = new_value`\n",
    "\n",
    "Note that if you use an incorrect integer index then you get an `IndexError`."
   ]
  },
  {
   "cell_type": "markdown",
   "id": "f5c5a01c",
   "metadata": {},
   "source": [
    "The main difference between a list and a tuple is that the former is *mutable* and the latter is *immutable*. It means that we can freely change values of elements in a list, but not in a tuple."
   ]
  },
  {
   "cell_type": "code",
   "execution_count": 6,
   "id": "07e75978",
   "metadata": {},
   "outputs": [],
   "source": [
    "# try to change the second to last element of nodes_servers to 100\n",
    "\n",
    "\n",
    "# now try to change any of the entries of locations\n"
   ]
  },
  {
   "cell_type": "markdown",
   "id": "b263776f",
   "metadata": {},
   "source": [
    "Note that Python considers several identifiers separated with commas as a tuple. This allows us to use an elegant expression when we work with several variables at the same time. For example, a basic computer science problem of swapping values of two variables can be resolved simply like that: "
   ]
  },
  {
   "cell_type": "code",
   "execution_count": 7,
   "id": "4952ffa0",
   "metadata": {},
   "outputs": [
    {
     "name": "stdout",
     "output_type": "stream",
     "text": [
      "2 1\n"
     ]
    }
   ],
   "source": [
    "value_1 = 1\n",
    "value_2 = 2\n",
    "\n",
    "value_1, value_2 = value_2, value_1\n",
    "\n",
    "print(value_1, value_2)"
   ]
  },
  {
   "cell_type": "markdown",
   "id": "de94a8a3",
   "metadata": {},
   "source": [
    "In addition, tuples are useful because they exhibit *destructuring*. This is what you typically use when you need to retrieve values from tuples to define some new variables or reassign values of already existing ones.\n",
    "\n",
    "Suppose that the following user information comes to you in a tuple: username, user id, balance. You can use tuple distructuring to retrieve the elemets separately."
   ]
  },
  {
   "cell_type": "code",
   "execution_count": 8,
   "id": "e321564a",
   "metadata": {},
   "outputs": [
    {
     "name": "stdout",
     "output_type": "stream",
     "text": [
      "User mfedotov with id 123 has 50.1 on their balance.\n",
      "User mfedotov with id 123 has 50.1 on their balance.\n"
     ]
    }
   ],
   "source": [
    "user_info = ('mfedotov', '123', 50.1)\n",
    "user_name, user_id, user_balance = user_info\n",
    "print(f\"User {user_name} with id {user_id} has {user_balance} on their balance.\")\n",
    "\n",
    "# note that if you can use a \"plug\" if you do not need some of the elements like this\n",
    "\n",
    "_, user_id, user_balance = user_info\n",
    "print(f\"User {_} with id {user_id} has {user_balance} on their balance.\")\n",
    "\n",
    "# note that this \"plug\" is still a variable, \"_\" is also a valid identifier of a variable."
   ]
  },
  {
   "cell_type": "markdown",
   "id": "c92c2431",
   "metadata": {},
   "source": [
    "Note that `list`, `tuple` and `range` are data types, data structures, and classes in Python. So, they have some *methods* that are associated with them.\n",
    "\n",
    "For example, `list` implements methods `append` and `pop` methods, allowing to add elements at the end of a list and remove an element at a specified index respectively."
   ]
  },
  {
   "cell_type": "code",
   "execution_count": 9,
   "id": "cf0bab42",
   "metadata": {},
   "outputs": [
    {
     "data": {
      "text/plain": [
       "['PATCH https://api.example.com/users/42/settings',\n",
       " 'GET https://news.example.com/articles?page=2',\n",
       " 'POST https://auth.example.com/login',\n",
       " 'GET https://cdn.example.com/images/logo.png',\n",
       " 'HEAD https://docs.example.com/manual.pdf',\n",
       " 'OPTIONS https://api.example.com/comments']"
      ]
     },
     "execution_count": 9,
     "metadata": {},
     "output_type": "execute_result"
    }
   ],
   "source": [
    "requests = [\n",
    "    \"DELETE https://api.example.com/posts/99\",\n",
    "    \"PATCH https://api.example.com/users/42/settings\",\n",
    "    \"GET https://news.example.com/articles?page=2\",\n",
    "    \"POST https://auth.example.com/login\",\n",
    "    \"GET https://cdn.example.com/images/logo.png\",\n",
    "    \"HEAD https://docs.example.com/manual.pdf\",\n",
    "]\n",
    "requests.append(\"OPTIONS https://api.example.com/comments\")  # enqueuing\n",
    "requests.pop(0)  # dequeuing\n",
    "requests"
   ]
  },
  {
   "cell_type": "markdown",
   "id": "0c2ff1be",
   "metadata": {},
   "source": [
    "These methods, among other things, can be used to implement data structures like Queue and Stack in Python. (*comment: to fully implement such a structure, you would write a specific class with associated methods, stay tuned for the lecture on OOP*)"
   ]
  },
  {
   "cell_type": "markdown",
   "id": "27a53c89",
   "metadata": {},
   "source": [
    "## For loops"
   ]
  },
  {
   "cell_type": "markdown",
   "id": "6e2a773c",
   "metadata": {},
   "source": [
    "To really make use of the sequence data structures, we have *loops* at our disposal. There are two types of loops in Python: `for` and `while`. We start with the former one as it is used in list comprehensions (a critically useful tool for data processing).\n",
    "\n",
    "Below you can find an example of a simple for loop:"
   ]
  },
  {
   "cell_type": "code",
   "execution_count": 10,
   "id": "dc0c4189",
   "metadata": {},
   "outputs": [
    {
     "name": "stdout",
     "output_type": "stream",
     "text": [
      "Server Perlmutter supports 20.185 PFLOPs.\n",
      "Server Leonardo supports 67.178 PFLOPs.\n",
      "Server Aurora supports 9.201 PFLOPs.\n",
      "Server Frontier supports 3.854 PFLOPs.\n"
     ]
    }
   ],
   "source": [
    "gflops_servers = []\n",
    "cores_node = [64, 104, 32, 64]\n",
    "clock_frequencies = [2, 1.9, 2.6, 2.45]\n",
    "operations_cycle = [16, 32, 32, 16]\n",
    "\n",
    "n_supercomps = len(supercomps)\n",
    "\n",
    "for i in range(n_supercomps):\n",
    "    gflops = nodes_servers[i] * cores_node[i] * operations_cycle[i] * clock_frequencies[i]\n",
    "    gflops_servers.append(gflops)\n",
    "    print(f\"Server {supercomps[i]} supports {gflops / 10**6:.3f} PFLOPs.\")"
   ]
  },
  {
   "cell_type": "markdown",
   "id": "45a024d6",
   "metadata": {},
   "source": [
    "The basic contents of a for loop are:\n",
    "* A keyword `for`\n",
    "* An arbitrary identifier for an iterator\n",
    "* A keyword `in` which indicates that at each iteration we take one element of an iterable object that we specify right after the keyword.\n",
    "* An identifier of an iterable object which we want to loop through (here it is `range(n_supercomps)`) which is followed by `:`.\n",
    "* Then there goes a body of the loop. Do not forget about correct indentation."
   ]
  },
  {
   "cell_type": "markdown",
   "id": "b5d3a898",
   "metadata": {},
   "source": [
    "You can also iterate over elements of a sequence directly, not just over indices."
   ]
  },
  {
   "cell_type": "code",
   "execution_count": 11,
   "id": "734cce66",
   "metadata": {},
   "outputs": [
    {
     "name": "stdout",
     "output_type": "stream",
     "text": [
      "Perlmutter Leonardo Aurora Frontier "
     ]
    }
   ],
   "source": [
    "for supercomp in supercomps:\n",
    "    print(supercomp, end=' ')"
   ]
  },
  {
   "cell_type": "markdown",
   "id": "4b4aef19",
   "metadata": {},
   "source": [
    "### Break and continue\n",
    "\n",
    "There are two keywords that will help you to work with for loops: `break` and `continue`.\n",
    "\n",
    "* `break` stops the loop right at a place it was reached.\n",
    "* `continue` makes the loop to stop the current iteration without executing any code further and moves to the next iteration."
   ]
  },
  {
   "cell_type": "markdown",
   "id": "7f392a68",
   "metadata": {},
   "source": [
    "Suppose that you want to compute calories for positive portions only. In addition, you do not want to calculate calories for portions greater that 330 ml. Then you would use the following construction:"
   ]
  },
  {
   "cell_type": "code",
   "execution_count": 12,
   "id": "8d4e5af5",
   "metadata": {},
   "outputs": [],
   "source": [
    "gflops_required = 90e6\n",
    "# typically, for this kind of problems you would ensure that the list is sorted\n",
    "\n",
    "specs = [\n",
    "    (name, gflops) \n",
    "    for name, gflops \n",
    "    in sorted(zip(supercomps, gflops_servers), key=lambda x: x[1])\n",
    "]\n",
    " \n",
    "gflops_acc = 0\n",
    "servers_op = []\n",
    "                                                  \n",
    "for j in range(n_supercomps):\n",
    "    if specs[j][1] < 10e6:\n",
    "        continue\n",
    "    gflops_acc += specs[j][1]\n",
    "    servers_op.append(specs[j][0])\n",
    "    if gflops_acc > gflops_required:\n",
    "        break"
   ]
  },
  {
   "cell_type": "code",
   "execution_count": 13,
   "id": "b01e45ab",
   "metadata": {},
   "outputs": [
    {
     "data": {
      "text/plain": [
       "['Perlmutter', 'Leonardo']"
      ]
     },
     "execution_count": 13,
     "metadata": {},
     "output_type": "execute_result"
    }
   ],
   "source": [
    "servers_op"
   ]
  },
  {
   "cell_type": "markdown",
   "id": "de2b17f8",
   "metadata": {},
   "source": [
    "## While loops"
   ]
  },
  {
   "cell_type": "markdown",
   "id": "22346e43",
   "metadata": {},
   "source": [
    "`While` loops are another way to implement a repeated protocol of action. It is mostly used when there is a sort of stopping criterion to be satisfied after the end of the loop. \n",
    "\n",
    "Let's try to imprement a bisection root finding algorithm using a while loop."
   ]
  },
  {
   "cell_type": "code",
   "execution_count": 14,
   "id": "13ade234",
   "metadata": {},
   "outputs": [
    {
     "data": {
      "text/plain": [
       "5.0"
      ]
     },
     "execution_count": 14,
     "metadata": {},
     "output_type": "execute_result"
    }
   ],
   "source": [
    "from types import FunctionType\n",
    "from typing import Union\n",
    "\n",
    "def root_finding_bisection(\n",
    "    f: FunctionType, \n",
    "    left_endpoint: Union[int, float], \n",
    "    right_endpoint: Union[int, float], \n",
    "    maxit: int = 1000\n",
    ") -> float:\n",
    "    if left_endpoint > right_endpoint:\n",
    "        raise ValueError('Left enpoint must have less value that the right endpoint.')\n",
    "    f_left = f(left_endpoint) \n",
    "    f_right = f(right_endpoint)\n",
    "    if f_left * f_right >= 0:\n",
    "        raise ValueError('The function values evaluated at the left and right endpoints' \n",
    "                         'must be of different signs.')\n",
    "    iteration = 0 \n",
    "    while iteration < maxit and (iteration == 0 or f_middle != 0):\n",
    "        middle = (left_endpoint + right_endpoint) / 2\n",
    "        f_middle = f(middle)\n",
    "        if f_left * f_middle > 0:\n",
    "            left_endpoint = middle\n",
    "            f_left = f(left_endpoint)\n",
    "        else:\n",
    "            right_endpoint = middle\n",
    "            f_right = f(right_endpoint)\n",
    "        iteration += 1\n",
    "    return middle\n",
    "    \n",
    "        \n",
    "def f(x: int | float) -> float:\n",
    "    return (x - 5) * (x + 3)\n",
    "\n",
    "root_finding_bisection(f, -1, 10)"
   ]
  },
  {
   "cell_type": "markdown",
   "id": "7327518f",
   "metadata": {},
   "source": [
    "Note that it is still recommended to prioritize use of `for` loops rather than `while` loops if possible."
   ]
  },
  {
   "cell_type": "markdown",
   "id": "370882e2",
   "metadata": {},
   "source": [
    "## List comprehensions\n",
    "\n",
    "There is also a concept of list comprehensions that allows to utilize `for` loop functionality  in a concise way embedding it in a list display. Of course, `for` loops and list comprehensions do not serve for same purposes. However, for this specific example above, we could do the same thing using a list comprehension.\n",
    "\n",
    "### Mapping"
   ]
  },
  {
   "cell_type": "code",
   "execution_count": 15,
   "id": "72dba41a",
   "metadata": {},
   "outputs": [
    {
     "data": {
      "text/plain": [
       "[20.185088, 67.1776768, 9.2012544, 3.8535168000000004]"
      ]
     },
     "execution_count": 15,
     "metadata": {},
     "output_type": "execute_result"
    }
   ],
   "source": [
    "pflops_servers = [gflops / 1e6 for gflops in gflops_servers]\n",
    "pflops_servers"
   ]
  },
  {
   "cell_type": "markdown",
   "id": "5f042fef",
   "metadata": {},
   "source": [
    "This list comprehension implements *mapping*, i.e. we apply a specific action to each element of the list.\n",
    "\n",
    "We could have also used a function within the display of the list comprehension, e.g.\n",
    "\n",
    "    new_list = [f(val, *args, *kwargs) for val in sequence]\n",
    "\n",
    "where `*args` and `**kwargs` denote a tuple and a dictionary of potential additional arguments respectively."
   ]
  },
  {
   "cell_type": "markdown",
   "id": "90917c35",
   "metadata": {},
   "source": [
    "### Filtering\n",
    "\n",
    "There is also a concept of *filtering* which can be implemented with a list comprehension."
   ]
  },
  {
   "cell_type": "code",
   "execution_count": 16,
   "id": "4004ca72",
   "metadata": {},
   "outputs": [
    {
     "data": {
      "text/plain": [
       "[20185088, 67177676.8]"
      ]
     },
     "execution_count": 16,
     "metadata": {},
     "output_type": "execute_result"
    }
   ],
   "source": [
    "gflops_gt10e6 = [gflops for gflops in gflops_servers if gflops > 10e6]\n",
    "gflops_gt10e6"
   ]
  },
  {
   "cell_type": "markdown",
   "id": "a577ce1a",
   "metadata": {},
   "source": [
    "We can also combine filtering with mapping and use an `else` claus within a list comprehension. Supose that we want to convert GFLOPs to PFLOPs and \"mask\" the values that are lower than 10 PFLOPs."
   ]
  },
  {
   "cell_type": "code",
   "execution_count": 17,
   "id": "9cad7b6b",
   "metadata": {},
   "outputs": [],
   "source": [
    "pflops_gt10e6 = [gflops / 1**6 if gflops > 10e6 else None for gflops in gflops_servers]"
   ]
  },
  {
   "cell_type": "markdown",
   "id": "f8e4df2e",
   "metadata": {},
   "source": [
    "### Reducing\n",
    "\n",
    "Another helpful concept is *reducing*. That is, we can retrieve some useful information (e.g. some statistic) from a list, i.e. we reduce it to one particular number.\n",
    "\n",
    "The classic examples are maximum and minimum values, average and median, counts of various events, and other statistics."
   ]
  },
  {
   "cell_type": "code",
   "execution_count": 18,
   "id": "f750ed72",
   "metadata": {},
   "outputs": [
    {
     "data": {
      "text/plain": [
       "(67177676.8, 3853516.8000000003)"
      ]
     },
     "execution_count": 18,
     "metadata": {},
     "output_type": "execute_result"
    }
   ],
   "source": [
    "max(gflops_servers), min(gflops_servers)"
   ]
  },
  {
   "cell_type": "code",
   "execution_count": 19,
   "id": "346e3c28",
   "metadata": {},
   "outputs": [
    {
     "data": {
      "text/plain": [
       "0.869995105237396"
      ]
     },
     "execution_count": 19,
     "metadata": {},
     "output_type": "execute_result"
    }
   ],
   "source": [
    "sum(gflops for gflops in gflops_servers if gflops > 10e6) / sum(gflops_servers)"
   ]
  },
  {
   "cell_type": "markdown",
   "id": "caa30a3d",
   "metadata": {},
   "source": [
    "## Dictionaries\n",
    "\n",
    "Dictionaries can be considered as a collection *key* / *value* pairs. Note that only a *hashable* object can be a key. For example, lists are specified as \"unhashable\"."
   ]
  },
  {
   "cell_type": "code",
   "execution_count": 20,
   "id": "1785420e",
   "metadata": {},
   "outputs": [
    {
     "name": "stdout",
     "output_type": "stream",
     "text": [
      "The keys in the dictionary can be accessed through `dict.keys(...)` method: dict_keys(['name', 'score'])\n",
      "The values in the dictionary can be accessed through `dict.values(...)` method: dict_values(['Foo', 55]) \n",
      "\n",
      "The name of the user is Foo.\n",
      "The score of the user is 55.\n"
     ]
    }
   ],
   "source": [
    "user = {'name': 'Foo', 'score': 55}\n",
    "\n",
    "print(\"The keys in the dictionary can be accessed through `dict.keys(...)` method:\", user.keys())\n",
    "print(\"The values in the dictionary can be accessed through `dict.values(...)` method:\", user.values(), \"\\n\")\n",
    "\n",
    "# You can also access the \n",
    "for key, value in user.items():\n",
    "    print(\"The %s of the user is %s.\" % (key, value))"
   ]
  },
  {
   "cell_type": "markdown",
   "id": "ae42a9be",
   "metadata": {},
   "source": [
    "Notice how we use tuple destructuring in the `for` loop. The loop iterates over a view of key-value pairs given by the dictionary method `dict.items()`. Thus, destructuring allows to break down each key-value pair into two distinct variables. "
   ]
  },
  {
   "cell_type": "markdown",
   "id": "994c6556",
   "metadata": {},
   "source": [
    "You can access a value by its key in the following way:"
   ]
  },
  {
   "cell_type": "code",
   "execution_count": 21,
   "id": "ceab38d8",
   "metadata": {},
   "outputs": [
    {
     "name": "stdout",
     "output_type": "stream",
     "text": [
      "Specify the key in the square brackets: Foo\n",
      "You can also use the `get` method: Foo\n"
     ]
    }
   ],
   "source": [
    "print(\"Specify the key in the square brackets:\", user['name'])\n",
    "print(\"You can also use the `get` method:\", user.get('name'))"
   ]
  },
  {
   "cell_type": "markdown",
   "id": "1d333501",
   "metadata": {},
   "source": [
    "You can also change a value or create a new entry of a dictionary."
   ]
  },
  {
   "cell_type": "code",
   "execution_count": 22,
   "id": "3d403596",
   "metadata": {},
   "outputs": [
    {
     "data": {
      "text/plain": [
       "{'name': 'Gru', 'score': 55, 'time_spent': 20}"
      ]
     },
     "execution_count": 22,
     "metadata": {},
     "output_type": "execute_result"
    }
   ],
   "source": [
    "user['name'] = 'Gru'\n",
    "user['time_spent'] = 20\n",
    "user"
   ]
  },
  {
   "cell_type": "markdown",
   "id": "330879e1",
   "metadata": {},
   "source": [
    "It is also possible to delete a key an the associated value in a dictionary by using `del` keyword."
   ]
  },
  {
   "cell_type": "code",
   "execution_count": 23,
   "id": "0d52cf67",
   "metadata": {},
   "outputs": [],
   "source": [
    "del user['score']"
   ]
  },
  {
   "cell_type": "markdown",
   "id": "17736c6c",
   "metadata": {},
   "source": [
    "A dictionary can be cleared entirely with a `dict.clear()` method."
   ]
  },
  {
   "cell_type": "code",
   "execution_count": 24,
   "id": "464ab57b",
   "metadata": {},
   "outputs": [],
   "source": [
    "user.clear()"
   ]
  },
  {
   "cell_type": "markdown",
   "id": "cd2d0891",
   "metadata": {},
   "source": [
    "You can feel the importance of dictionaries when working with data. For example, some data can be specified as a list of dictionaries like this:"
   ]
  },
  {
   "cell_type": "code",
   "execution_count": 25,
   "id": "30edc531",
   "metadata": {},
   "outputs": [],
   "source": [
    "users = [{'name': 'Foo', 'score': 55}, {'name': 'Lu', 'score': 56}]"
   ]
  },
  {
   "cell_type": "markdown",
   "id": "c46a2bb4",
   "metadata": {},
   "source": [
    "Or data can also come in a nested dictionary format as well. You typically incounter this type of data when parsing websites."
   ]
  },
  {
   "cell_type": "markdown",
   "id": "8b2269a6",
   "metadata": {},
   "source": [
    "## Set types: sets, frozensets\n",
    "\n",
    "There are also set types at your disposal. They embody effective data structures that store unordered collections of unique elements. A variable can be checked for inclusion into a set of prespecified values. Also, sets implement set operations (like intersection, union, set difference and so on)."
   ]
  },
  {
   "cell_type": "code",
   "execution_count": 26,
   "id": "cef25a3b",
   "metadata": {},
   "outputs": [
    {
     "data": {
      "text/plain": [
       "{'id': 1, 'account': 1337, 'balance': 550}"
      ]
     },
     "execution_count": 26,
     "metadata": {},
     "output_type": "execute_result"
    }
   ],
   "source": [
    "filtering_parameters = {\"id\", \"account\", \"balance\"}\n",
    "\n",
    "user_data = {\"id\": 1, \"name\": \"foo\", \"account\": 1337, \"date_open\": \"21/12/21\", \"balance\": 550}\n",
    "user_data_filtered = {}  # Note that this line creates an empty DICTIONARY, not a set. \n",
    "                         # To create an empty set use `set()`\n",
    "\n",
    "for parameter in user_data:  # note that by default such a loop iterates over the dictionary keys.\n",
    "    if parameter in filtering_parameters:\n",
    "        user_data_filtered[parameter] = user_data.get(parameter)\n",
    "        \n",
    "user_data_filtered"
   ]
  },
  {
   "cell_type": "markdown",
   "id": "b0086adc",
   "metadata": {},
   "source": [
    "The logical expression `parameter in filtering_parameters` represents a containment test. It can also be done in that way with other collections, like `lists`, `tuples`, `ranges`, even `strings`.\n",
    "\n",
    "Note that sets contain only unique values, i.e. if you would like to convert your `list` using `set(...)` function, then it gets rid of all duplicates in the resulting list."
   ]
  },
  {
   "cell_type": "code",
   "execution_count": 27,
   "id": "a9e596fa",
   "metadata": {},
   "outputs": [
    {
     "name": "stdout",
     "output_type": "stream",
     "text": [
      "Unique occupations are: data analyst, electrical engineer, software engineer\n",
      "Number of unique occupations in the data is: 3\n"
     ]
    }
   ],
   "source": [
    "# Suppose that we have some data on occupations of individuals\n",
    "data = [\n",
    "    {\"name\": \"Foo\", \"occupation\": \"data analyst\"}, \n",
    "    {\"name\": \"Lu\", \"occupation\": \"software engineer\"}, \n",
    "    {\"name\": \"Bro\", \"occupation\": \"data analyst\"},\n",
    "    {\"name\": \"Gru\", \"occupation\": \"electrical engineer\"}\n",
    "]\n",
    "\n",
    "n_individuals = len(data)\n",
    "occupations = [None] * len(data)\n",
    "\n",
    "for i in range(n_individuals):\n",
    "    occupations[i] = data[i][\"occupation\"]\n",
    "    \n",
    "unique_occupations = set(occupations)\n",
    "\n",
    "print(\"Unique occupations are:\", ', '.join(unique_occupations)) \n",
    "print(\"Number of unique occupations in the data is:\", len(unique_occupations))"
   ]
  },
  {
   "cell_type": "markdown",
   "id": "d7ba708c",
   "metadata": {},
   "source": [
    "Examples of set operations are:"
   ]
  },
  {
   "cell_type": "code",
   "execution_count": 28,
   "id": "38901819",
   "metadata": {},
   "outputs": [
    {
     "name": "stdout",
     "output_type": "stream",
     "text": [
      "Difference: {'Foo'}\n",
      "Intersection: {'Lu', 'Gru'}\n",
      "Union: {'Lu', 'Gru', 'Foo', 'Bro'}\n",
      "Symmetric difference: {'Foo', 'Bro'}\n"
     ]
    }
   ],
   "source": [
    "users_purchasing = [\"Foo\", \"Lu\", \"Gru\"]  # suppose that these are users who actively make in-app payments \n",
    "users_active = [\"Bro\", \"Lu\", \"Gru\"]  # these are the most active users\n",
    "\n",
    "print(\"Difference:\", set(users_purchasing) - set(users_active))  # note that order matters\n",
    "print(\"Intersection:\", set(users_purchasing) & set(users_active))\n",
    "print(\"Union:\", set(users_purchasing) | set(users_active)) \n",
    "print(\"Symmetric difference:\", set(users_purchasing) ^ set(users_active)) "
   ]
  },
  {
   "cell_type": "markdown",
   "id": "0a92d95e",
   "metadata": {},
   "source": [
    "Note that you can modify a set."
   ]
  },
  {
   "cell_type": "code",
   "execution_count": 29,
   "id": "1040dc20",
   "metadata": {},
   "outputs": [
    {
     "data": {
      "text/plain": [
       "{'Bro', 'Foo', 'Gru', 'Lu'}"
      ]
     },
     "execution_count": 29,
     "metadata": {},
     "output_type": "execute_result"
    }
   ],
   "source": [
    "names = {'Gru', 'Foo', 'Lu'}\n",
    "names.add('Bro')\n",
    "names"
   ]
  },
  {
   "cell_type": "markdown",
   "id": "55cb996d",
   "metadata": {},
   "source": [
    "That is why sets are made unhashable in Python (if you use the built-in function `hash(...)`, you get a `TypeError`). You can use a `frozenset` which is an *immutable* and *hashable* version of a set."
   ]
  },
  {
   "cell_type": "code",
   "execution_count": 30,
   "id": "b736ed9c",
   "metadata": {},
   "outputs": [
    {
     "data": {
      "text/plain": [
       "frozenset({'Foo', 'Gru', 'Lu'})"
      ]
     },
     "execution_count": 30,
     "metadata": {},
     "output_type": "execute_result"
    }
   ],
   "source": [
    "names = frozenset(['Gru', 'Foo', 'Lu'])\n",
    "names"
   ]
  }
 ],
 "metadata": {
  "kernelspec": {
   "display_name": "Python 3",
   "language": "python",
   "name": "python3"
  },
  "language_info": {
   "codemirror_mode": {
    "name": "ipython",
    "version": 3
   },
   "file_extension": ".py",
   "mimetype": "text/x-python",
   "name": "python",
   "nbconvert_exporter": "python",
   "pygments_lexer": "ipython3",
   "version": "3.12.2"
  }
 },
 "nbformat": 4,
 "nbformat_minor": 5
}
